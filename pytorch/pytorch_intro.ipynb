{
  "nbformat": 4,
  "nbformat_minor": 0,
  "metadata": {
    "colab": {
      "name": "pytorch_intro",
      "version": "0.3.2",
      "provenance": [],
      "collapsed_sections": [],
      "include_colab_link": true
    },
    "kernelspec": {
      "name": "python3",
      "display_name": "Python 3"
    },
    "accelerator": "GPU"
  },
  "cells": [
    {
      "cell_type": "markdown",
      "metadata": {
        "id": "view-in-github",
        "colab_type": "text"
      },
      "source": [
        "<a href=\"https://colab.research.google.com/github/dan-an/machine_learning/blob/master/pytorch/pytorch_intro.ipynb\" target=\"_parent\"><img src=\"https://colab.research.google.com/assets/colab-badge.svg\" alt=\"Open In Colab\"/></a>"
      ]
    },
    {
      "cell_type": "code",
      "metadata": {
        "id": "mkl47_u9UeCU",
        "colab_type": "code",
        "colab": {}
      },
      "source": [
        "import torch"
      ],
      "execution_count": 0,
      "outputs": []
    },
    {
      "cell_type": "code",
      "metadata": {
        "id": "F59gQPd8Uj6y",
        "colab_type": "code",
        "outputId": "78b65b82-a4aa-47ab-f7bd-de1316106a33",
        "colab": {
          "base_uri": "https://localhost:8080/",
          "height": 68
        }
      },
      "source": [
        "torch.zeros([3, 4])"
      ],
      "execution_count": 2,
      "outputs": [
        {
          "output_type": "execute_result",
          "data": {
            "text/plain": [
              "tensor([[0., 0., 0., 0.],\n",
              "        [0., 0., 0., 0.],\n",
              "        [0., 0., 0., 0.]])"
            ]
          },
          "metadata": {
            "tags": []
          },
          "execution_count": 2
        }
      ]
    },
    {
      "cell_type": "code",
      "metadata": {
        "id": "93B49eWdX-Et",
        "colab_type": "code",
        "outputId": "1245e3a2-fa31-40d5-97c4-c0bfc6943100",
        "colab": {
          "base_uri": "https://localhost:8080/",
          "height": 255
        }
      },
      "source": [
        "torch.ones([3, 4, 3])"
      ],
      "execution_count": 3,
      "outputs": [
        {
          "output_type": "execute_result",
          "data": {
            "text/plain": [
              "tensor([[[1., 1., 1.],\n",
              "         [1., 1., 1.],\n",
              "         [1., 1., 1.],\n",
              "         [1., 1., 1.]],\n",
              "\n",
              "        [[1., 1., 1.],\n",
              "         [1., 1., 1.],\n",
              "         [1., 1., 1.],\n",
              "         [1., 1., 1.]],\n",
              "\n",
              "        [[1., 1., 1.],\n",
              "         [1., 1., 1.],\n",
              "         [1., 1., 1.],\n",
              "         [1., 1., 1.]]])"
            ]
          },
          "metadata": {
            "tags": []
          },
          "execution_count": 3
        }
      ]
    },
    {
      "cell_type": "code",
      "metadata": {
        "id": "7SlkYnbNYXJY",
        "colab_type": "code",
        "colab": {}
      },
      "source": [
        "x = torch.tensor([[1, 2, 3, 4],\n",
        "                  [5, 6, 7, 8],\n",
        "                  [9, 10, 11, 12]])"
      ],
      "execution_count": 0,
      "outputs": []
    },
    {
      "cell_type": "code",
      "metadata": {
        "id": "huyrnzv7X-b8",
        "colab_type": "code",
        "outputId": "1286f5d5-3dd7-471e-a38a-30bcc8dfadb6",
        "colab": {
          "base_uri": "https://localhost:8080/",
          "height": 34
        }
      },
      "source": [
        "x.size()"
      ],
      "execution_count": 5,
      "outputs": [
        {
          "output_type": "execute_result",
          "data": {
            "text/plain": [
              "torch.Size([3, 4])"
            ]
          },
          "metadata": {
            "tags": []
          },
          "execution_count": 5
        }
      ]
    },
    {
      "cell_type": "code",
      "metadata": {
        "id": "yasIDWuIX-gE",
        "colab_type": "code",
        "outputId": "7455a445-9eef-4bb1-c22c-8af33699d430",
        "colab": {
          "base_uri": "https://localhost:8080/",
          "height": 34
        }
      },
      "source": [
        "x.shape"
      ],
      "execution_count": 6,
      "outputs": [
        {
          "output_type": "execute_result",
          "data": {
            "text/plain": [
              "torch.Size([3, 4])"
            ]
          },
          "metadata": {
            "tags": []
          },
          "execution_count": 6
        }
      ]
    },
    {
      "cell_type": "code",
      "metadata": {
        "id": "L5GnX1XrjnaO",
        "colab_type": "code",
        "colab": {}
      },
      "source": [
        "mask = x > 3"
      ],
      "execution_count": 0,
      "outputs": []
    },
    {
      "cell_type": "code",
      "metadata": {
        "id": "b8-qtTXmjnXS",
        "colab_type": "code",
        "outputId": "1fd55346-29e8-4f5e-87ca-bb4f3ca33664",
        "colab": {
          "base_uri": "https://localhost:8080/",
          "height": 34
        }
      },
      "source": [
        "x[mask]"
      ],
      "execution_count": 8,
      "outputs": [
        {
          "output_type": "execute_result",
          "data": {
            "text/plain": [
              "tensor([ 4,  5,  6,  7,  8,  9, 10, 11, 12])"
            ]
          },
          "metadata": {
            "tags": []
          },
          "execution_count": 8
        }
      ]
    },
    {
      "cell_type": "code",
      "metadata": {
        "id": "exq3QUbK3UA4",
        "colab_type": "code",
        "colab": {}
      },
      "source": [
        "x = torch.rand(2000, 3000)\n",
        "x"
      ],
      "execution_count": 0,
      "outputs": []
    },
    {
      "cell_type": "code",
      "metadata": {
        "id": "VeqnZo7s3fmD",
        "colab_type": "code",
        "colab": {
          "base_uri": "https://localhost:8080/",
          "height": 34
        },
        "outputId": "cde4fe98-0863-4820-984d-e8ccd2be8fe3"
      },
      "source": [
        "torch.cuda.is_available()"
      ],
      "execution_count": 10,
      "outputs": [
        {
          "output_type": "execute_result",
          "data": {
            "text/plain": [
              "True"
            ]
          },
          "metadata": {
            "tags": []
          },
          "execution_count": 10
        }
      ]
    },
    {
      "cell_type": "code",
      "metadata": {
        "id": "GLYwzMHa36ER",
        "colab_type": "code",
        "colab": {
          "base_uri": "https://localhost:8080/",
          "height": 34
        },
        "outputId": "c895f0ff-789c-42f5-b60e-a45368b0d54f"
      },
      "source": [
        "torch.device('cuda:0')"
      ],
      "execution_count": 12,
      "outputs": [
        {
          "output_type": "execute_result",
          "data": {
            "text/plain": [
              "device(type='cuda', index=0)"
            ]
          },
          "metadata": {
            "tags": []
          },
          "execution_count": 12
        }
      ]
    },
    {
      "cell_type": "code",
      "metadata": {
        "id": "M-TZ2M0m36UN",
        "colab_type": "code",
        "colab": {
          "base_uri": "https://localhost:8080/",
          "height": 34
        },
        "outputId": "79a0513b-901a-4593-9679-274aef80bd21"
      },
      "source": [
        "device = torch.device('cuda:0' if torch.cuda.is_available else 'cpu')\n",
        "device"
      ],
      "execution_count": 13,
      "outputs": [
        {
          "output_type": "execute_result",
          "data": {
            "text/plain": [
              "device(type='cuda', index=0)"
            ]
          },
          "metadata": {
            "tags": []
          },
          "execution_count": 13
        }
      ]
    },
    {
      "cell_type": "code",
      "metadata": {
        "id": "iG_teVcC36Xv",
        "colab_type": "code",
        "colab": {}
      },
      "source": [
        "x_cuda = x.to(device)"
      ],
      "execution_count": 0,
      "outputs": []
    },
    {
      "cell_type": "code",
      "metadata": {
        "id": "J1O48qq15AcI",
        "colab_type": "code",
        "colab": {
          "base_uri": "https://localhost:8080/",
          "height": 272
        },
        "outputId": "91e0e8af-e9d9-43e1-f354-08cf1c4ff374"
      },
      "source": [
        "%time y = (x - x + x * 10) ** 2\n",
        "y"
      ],
      "execution_count": 16,
      "outputs": [
        {
          "output_type": "stream",
          "text": [
            "CPU times: user 23.7 ms, sys: 33.5 ms, total: 57.2 ms\n",
            "Wall time: 74.9 ms\n"
          ],
          "name": "stdout"
        },
        {
          "output_type": "execute_result",
          "data": {
            "text/plain": [
              "tensor([[7.9834e-02, 1.6016e+00, 9.2487e+00,  ..., 4.1388e+00, 5.5217e-01,\n",
              "         2.7221e+00],\n",
              "        [3.4951e+01, 8.7025e+01, 1.1205e-01,  ..., 2.2351e+01, 2.8501e+00,\n",
              "         7.2888e+01],\n",
              "        [3.4207e+00, 1.9714e-01, 5.6540e+01,  ..., 9.1222e+01, 4.2173e+00,\n",
              "         7.8288e+01],\n",
              "        ...,\n",
              "        [2.4632e+01, 2.5186e+00, 8.7019e+01,  ..., 1.4030e+01, 4.9757e+00,\n",
              "         2.6203e+01],\n",
              "        [1.4803e+01, 5.3953e+00, 4.2806e+01,  ..., 8.8848e+01, 8.9458e+01,\n",
              "         4.8911e+01],\n",
              "        [1.5283e+00, 3.1888e+01, 4.1685e+01,  ..., 2.9620e-02, 4.2900e+01,\n",
              "         9.1200e+01]])"
            ]
          },
          "metadata": {
            "tags": []
          },
          "execution_count": 16
        }
      ]
    },
    {
      "cell_type": "code",
      "metadata": {
        "id": "fAK_5B2a5AgT",
        "colab_type": "code",
        "colab": {
          "base_uri": "https://localhost:8080/",
          "height": 272
        },
        "outputId": "04a0e5ac-6aea-4fd7-d68b-dd649fe57bc6"
      },
      "source": [
        "%time y_cuda = (x_cuda - x_cuda + x_cuda * 10) ** 2\n",
        "y_cuda"
      ],
      "execution_count": 19,
      "outputs": [
        {
          "output_type": "stream",
          "text": [
            "CPU times: user 2.71 ms, sys: 0 ns, total: 2.71 ms\n",
            "Wall time: 1.99 ms\n"
          ],
          "name": "stdout"
        },
        {
          "output_type": "execute_result",
          "data": {
            "text/plain": [
              "tensor([[7.9834e-02, 1.6016e+00, 9.2487e+00,  ..., 4.1388e+00, 5.5217e-01,\n",
              "         2.7221e+00],\n",
              "        [3.4951e+01, 8.7025e+01, 1.1205e-01,  ..., 2.2351e+01, 2.8501e+00,\n",
              "         7.2888e+01],\n",
              "        [3.4207e+00, 1.9714e-01, 5.6540e+01,  ..., 9.1222e+01, 4.2173e+00,\n",
              "         7.8288e+01],\n",
              "        ...,\n",
              "        [2.4632e+01, 2.5186e+00, 8.7019e+01,  ..., 1.4030e+01, 4.9757e+00,\n",
              "         2.6203e+01],\n",
              "        [1.4803e+01, 5.3953e+00, 4.2806e+01,  ..., 8.8848e+01, 8.9458e+01,\n",
              "         4.8911e+01],\n",
              "        [1.5283e+00, 3.1888e+01, 4.1685e+01,  ..., 2.9620e-02, 4.2900e+01,\n",
              "         9.1200e+01]], device='cuda:0')"
            ]
          },
          "metadata": {
            "tags": []
          },
          "execution_count": 19
        }
      ]
    },
    {
      "cell_type": "code",
      "metadata": {
        "id": "5vmqPJoX5AlE",
        "colab_type": "code",
        "colab": {}
      },
      "source": [
        ""
      ],
      "execution_count": 0,
      "outputs": []
    }
  ]
}